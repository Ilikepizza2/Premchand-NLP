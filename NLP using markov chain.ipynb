{
 "cells": [
  {
   "cell_type": "code",
   "execution_count": 131,
   "metadata": {},
   "outputs": [],
   "source": [
    "import re\n",
    "from nltk.tokenize import word_tokenize\n",
    "import random"
   ]
  },
  {
   "cell_type": "code",
   "execution_count": 132,
   "metadata": {},
   "outputs": [
    {
     "name": "stdout",
     "output_type": "stream",
     "text": [
      "Lines read  28068\n"
     ]
    }
   ],
   "source": [
    "data_path = \"./premchand.txt\"\n",
    "\n",
    "def read_text(data_path):\n",
    "    txt = []\n",
    "    \n",
    "    with open(data_path) as f:\n",
    "        for line in f:\n",
    "            line = line.strip()\n",
    "            if line!='':txt.append(line)\n",
    "    return txt\n",
    "        \n",
    "stories = read_text(data_path)\n",
    "print(\"Lines read \", len(stories))"
   ]
  },
  {
   "cell_type": "code",
   "execution_count": 133,
   "metadata": {},
   "outputs": [
    {
     "name": "stdout",
     "output_type": "stream",
     "text": [
      "number of words =  186852\n"
     ]
    }
   ],
   "source": [
    "def clean_data(txt):\n",
    "    cleaned_txt = []\n",
    "    for line in txt:\n",
    "        line = re.sub(r\"[,.\\\"\\'!@#$%^&*(){}?/;`~:<>+=-\\\\]।\", \"\", line)\n",
    "        tokens = word_tokenize(line)\n",
    "        words = [word for word in tokens if word.isalpha()]\n",
    "        cleaned_txt+=words\n",
    "    return cleaned_txt\n",
    "\n",
    "cleaned_txt = clean_data(stories)\n",
    "print(\"number of words = \", len(cleaned_txt))"
   ]
  },
  {
   "cell_type": "code",
   "execution_count": 134,
   "metadata": {},
   "outputs": [],
   "source": [
    "def init_model(cleaned_txt):\n",
    "    # this is for the number of words in one token for context\n",
    "    context_length = 2  \n",
    "    \n",
    "    \n",
    "    markov_model = dict()\n",
    "    for i in range(len(cleaned_txt)-context_length-1):\n",
    "        curr_state, next_state = \"\", \"\"\n",
    "        for j in range(context_length):\n",
    "            curr_state += cleaned_txt[i+j] + \" \"\n",
    "            next_state += cleaned_txt[i+j+context_length] + \" \"\n",
    "        curr_state = curr_state.strip()\n",
    "        next_state = next_state.strip()\n",
    "        if curr_state not in markov_model:\n",
    "            markov_model[curr_state] = {}\n",
    "            markov_model[curr_state][next_state] = 1\n",
    "        else:\n",
    "            if next_state in markov_model[curr_state]:\n",
    "                markov_model[curr_state][next_state] += 1\n",
    "            else:\n",
    "                markov_model[curr_state][next_state] = 1\n",
    "    \n",
    "    for curr_state, transition in markov_model.items():\n",
    "        total = sum(transition.values())\n",
    "        for state, count in transition.items():\n",
    "            markov_model[curr_state][state] = count/total\n",
    "        \n",
    "    return markov_model\n",
    "markov_model = init_model(cleaned_txt)"
   ]
  },
  {
   "cell_type": "code",
   "execution_count": 142,
   "metadata": {},
   "outputs": [
    {
     "name": "stdout",
     "output_type": "stream",
     "text": [
      "('आज गई', {'घर आग': 0.04, 'मर गए': 0.04, 'घर घर': 0.04, 'और तरफ': 0.04, 'वह तक': 0.04, 'हम वह': 0.04, 'कब मन': 0.04, 'रह यह': 0.04, 'और तक': 0.04, 'इस आ': 0.04, 'वह पर': 0.04, 'इन पर': 0.04, 'वर कह': 0.04, 'रतन आज': 0.04, 'जब एक': 0.04, 'और आकर': 0.04, 'और पहर': 0.04, 'और पर': 0.04, 'और कह': 0.04, 'एक एक': 0.04, 'वह अलग': 0.04, 'वह आज': 0.04, 'वह समझ': 0.04, 'इस नगर': 0.04, 'तप और': 0.04})\n"
     ]
    }
   ],
   "source": [
    "# this is so that you can get one random key to try\n",
    "print(random.choice(list(markov_model.items())))"
   ]
  },
  {
   "cell_type": "code",
   "execution_count": 144,
   "metadata": {},
   "outputs": [],
   "source": [
    "def predict_next_token(markov_model, limit=100, start='आज गई'):\n",
    "    n = 0\n",
    "    curr_state = start\n",
    "    next_state = None\n",
    "    text = \"\"\n",
    "    text+=curr_state+\" \"\n",
    "    while n<limit:\n",
    "        next_state = random.choices(list(markov_model[curr_state].keys()),\n",
    "                                    list(markov_model[curr_state].values()))\n",
    "        \n",
    "        curr_state = next_state[0]\n",
    "        text+=curr_state+\" \"\n",
    "        n+=1\n",
    "    return text"
   ]
  },
  {
   "cell_type": "code",
   "execution_count": 145,
   "metadata": {},
   "outputs": [
    {
     "name": "stdout",
     "output_type": "stream",
     "text": [
      "0.  आज गई और आकर पर मतई आकर फट और न हम मकसद यह न और कई इस पर \n",
      "1.  आज गई वर कह आप न और और न कर मन कर कर मन भय यह इन जब \n",
      "2.  आज गई और पर आज और और एक आ और और न आप इस यह अब समझ न \n",
      "3.  आज गई और पर न जगह पर और पर इस कई अब तक समझकर आज वह आसन और \n",
      "4.  आज गई और कह पर जप हवन पर और और वतन वह और पर न और उछल बरस \n",
      "5.  आज गई और कह पर न गई और पर न इस बन वह एमए कर पद हम इस \n",
      "6.  आज गई और आकर पर और और हम यह वह कर एक मर बच बच इस इस पर \n",
      "7.  आज गई वह पर अगर घर कलह यह कर जब इस बखत और न समझकर मन यह इस \n",
      "8.  आज गई वह तक इस ओर वह पर न वह कर एक घर इस तब जब गरज तब \n",
      "9.  आज गई वह समझ गए इस आकर तक और गरम जब तक और न और न मगर और \n",
      "10.  आज गई वह तक कर इस अमर अब तक कर अब हटकर पर आप और पर पर रसद \n",
      "11.  आज गई वह समझ आप आप अकड बस आन आन इस उस और बच न और मरन हम \n",
      "12.  आज गई रतन आज घर कल कह समय आ पर और अगर यह गई कर एक और बद \n",
      "13.  आज गई एक एक और इस समय और मलमल गज अब मगर एक कह एक और एक न \n",
      "14.  आज गई रह यह आप बन यह सब अदब और समझ वह अकसर कर अब मदद पर न \n"
     ]
    }
   ],
   "source": [
    "for i in range(15):\n",
    "    print(str(i)+\". \", predict_next_token(markov_model, start=\"आ समय\", limit=8))"
   ]
  },
  {
   "cell_type": "code",
   "execution_count": 151,
   "metadata": {},
   "outputs": [
    {
     "name": "stdout",
     "output_type": "stream",
     "text": [
      "उधर बजट पर अगर पर नजर वह आ मगर कह अगर वह कह आज अगर इस सरल मन कह न यह वह यह वह आए जब पर उन एक न एक न और सह आए यह न मर गए यह कमर पर कर कई ओर न यह और घर इस पर पर कदम और उस पर वह वह जब न आ यह और वह और जब रह तब जब औरत औरत औरत पर इस और अगर घर न और आठ पर और पर और मन न सदय तब उस इस समय पर इस एक इन कर एक यह पर वह घर घर घर आज वह घर वह वह और पर इस न इधर उधर पर मन और पर पर और पर कह मगर हम सब अब न यह न हट यह आग कर कर बदन अब आप गजब न इन और जब पर कर यह आज पर वह सफ न पर ओर और न तक वह इस समय वह पर अतएव करण ओर तक न वह और समय आ आज वह मरहम जईरत वह अटल पर यह पर और आज ओर और न और यह सब न इन समझकर दरद अब और अब छ पर फसल अगर आठ न वह तक शहर \n"
     ]
    }
   ],
   "source": [
    "print(predict_next_token(markov_model, start=random.choice(list(markov_model.items()))[0], limit=100))"
   ]
  }
 ],
 "metadata": {
  "kernelspec": {
   "display_name": "Python 3",
   "language": "python",
   "name": "python3"
  },
  "language_info": {
   "codemirror_mode": {
    "name": "ipython",
    "version": 3
   },
   "file_extension": ".py",
   "mimetype": "text/x-python",
   "name": "python",
   "nbconvert_exporter": "python",
   "pygments_lexer": "ipython3",
   "version": "3.10.12"
  }
 },
 "nbformat": 4,
 "nbformat_minor": 2
}
